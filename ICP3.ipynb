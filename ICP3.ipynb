{
  "nbformat": 4,
  "nbformat_minor": 0,
  "metadata": {
    "colab": {
      "provenance": []
    },
    "kernelspec": {
      "name": "python3",
      "display_name": "Python 3"
    },
    "language_info": {
      "name": "python"
    }
  },
  "cells": [
    {
      "cell_type": "code",
      "execution_count": 4,
      "metadata": {
        "colab": {
          "base_uri": "https://localhost:8080/"
        },
        "id": "cbgYfUW6stpr",
        "outputId": "5c2dce37-b9af-42ff-fbce-ebb63bfa267b"
      },
      "outputs": [
        {
          "output_type": "stream",
          "name": "stdout",
          "text": [
            "Average salary of fulltimeemployees: 165000.0\n",
            "Average salary of employees: 73000.0\n"
          ]
        }
      ],
      "source": [
        "class Employee:\n",
        "    no_of_employees = 0\n",
        "\n",
        "    def __init__(self, name, family, salary, department):\n",
        "        self.name = name\n",
        "        self.family = family\n",
        "        self.salary = salary\n",
        "        self.department = department\n",
        "        Employee.no_of_employees += 1\n",
        "\n",
        "    @staticmethod\n",
        "    def average_salary(femployees, n):\n",
        "        add = 0\n",
        "        for employee in femployees:\n",
        "            add += employee.salary\n",
        "        return add / n\n",
        "\n",
        "\n",
        "class FulltimeEmployee(Employee):\n",
        "    def __init__(self, name, family, salary, department):\n",
        "        super().__init__(name, family, salary, department)\n",
        "\n",
        "def main():\n",
        "    femployees = []\n",
        "    employees = []\n",
        "    femp1 = FulltimeEmployee(\"Kiran\", \"Kumar\", 145000, \"Team Lead\")\n",
        "    femployees.append(femp1)\n",
        "    femp2 = FulltimeEmployee(\"Manideep\", \"Reddy\", 180000, \"Delivery Manager\")\n",
        "    femployees.append(femp2)\n",
        "    femp3 = FulltimeEmployee(\"Sushma\", \"Shetty\", 155000, \"Project Lead\")\n",
        "    femployees.append(femp3)\n",
        "    femp4 = FulltimeEmployee(\"Vaishnavi\", \"Reddy\", 180000, \"hr\")\n",
        "    femployees.append(femp4)\n",
        "    employee1 = Employee(\"Mahitha\", \"Reddy\", 96000, \"Developer\")\n",
        "    employees.append(employee1)\n",
        "    employee2 = Employee(\"Bharat\", \"Kumar\", 50000, \"Tester\")\n",
        "    employees.append(employee2)\n",
        "    print(\"Average salary of fulltimeemployees:\", FulltimeEmployee.average_salary(femployees, (len(femployees))))\n",
        "    print(\"Average salary of employees:\", Employee.average_salary(employees, (len(employees))))\n",
        "\n",
        "if __name__ == \"__main__\":\n",
        "    main()"
      ]
    },
    {
      "cell_type": "code",
      "source": [
        "import numpy as np\n",
        "z = np.random.uniform(1, 20, 20)\n",
        "m = z.reshape(4, 5)\n",
        "print(m)\n",
        "\n",
        "m = np.where(m == np.max(m, axis=1, keepdims=True), 0, m)\n",
        "print(m)"
      ],
      "metadata": {
        "colab": {
          "base_uri": "https://localhost:8080/"
        },
        "id": "fpgVgE5xs_o3",
        "outputId": "01cc9277-5a6d-4d7b-fb48-0976a11e6ad3"
      },
      "execution_count": 2,
      "outputs": [
        {
          "output_type": "stream",
          "name": "stdout",
          "text": [
            "[[11.74711372  8.78972146  4.49327847  7.24511314  1.72481871]\n",
            " [ 1.38598877 15.03027875 17.05554223  3.49842178  2.48984489]\n",
            " [ 4.79082764  7.93415287 16.84857495 13.66563398 11.70719427]\n",
            " [ 8.98347503  7.56253143 11.25735771  9.74615572 15.44610462]]\n",
            "[[ 0.          8.78972146  4.49327847  7.24511314  1.72481871]\n",
            " [ 1.38598877 15.03027875  0.          3.49842178  2.48984489]\n",
            " [ 4.79082764  7.93415287  0.         13.66563398 11.70719427]\n",
            " [ 8.98347503  7.56253143 11.25735771  9.74615572  0.        ]]\n"
          ]
        }
      ]
    }
  ]
}